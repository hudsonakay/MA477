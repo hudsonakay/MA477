{
 "cells": [
  {
   "cell_type": "markdown",
   "metadata": {},
   "source": [
    "<h2> ======================================================</h2>\n",
    " <h1>MA477 - Theory and Applications of Data Science</h1> \n",
    "  <h1>Lesson 2: Introduction to NumPy</h1> \n",
    " \n",
    " <h4>Dr. Valmir Bucaj</h4>\n",
    " <br>\n",
    " United States Military Academy, West Point, AY20-2\n",
    "<h2>=======================================================</h2>"
   ]
  },
  {
   "cell_type": "code",
   "execution_count": 3,
   "metadata": {},
   "outputs": [],
   "source": [
    "import numpy as np"
   ]
  },
  {
   "cell_type": "markdown",
   "metadata": {},
   "source": [
    "<h2>==================================================</h2>\n",
    "<br>\n",
    "<h1>HOMEWORK #1</h1>\n",
    "\n",
    "<h2>=================================================</h2>\n",
    "\n",
    "<h3> Complete the following exercises. Document your code as necessary.</h3>\n",
    "<br>\n",
    "\n",
    "<ol>\n",
    "<li><font size=3> Create a 5 by 7 numpy array of random integers with values between 3 and 11 inclusive. Then do the following:\n",
    "    <ol> <li>Check the data type of the array</li>\n",
    "        <li>Find the maximum of the entire array</li>\n",
    "        <li>Find the minimum value of each row</li>\n",
    "        <li>Find the index where the minimum value of each row occurs</li>\n",
    "    </ol></font></li>\n",
    "</ol>"
   ]
  },
  {
   "cell_type": "code",
   "execution_count": 13,
   "metadata": {},
   "outputs": [
    {
     "data": {
      "text/plain": [
       "dtype('int32')"
      ]
     },
     "execution_count": 13,
     "metadata": {},
     "output_type": "execute_result"
    }
   ],
   "source": [
    "#Your code for part A of Exercise 1 goes here\n",
    "arr = np.random.randint(3,12, size = (5,7))\n",
    "arr.dtype"
   ]
  },
  {
   "cell_type": "code",
   "execution_count": 5,
   "metadata": {},
   "outputs": [
    {
     "data": {
      "text/plain": [
       "11"
      ]
     },
     "execution_count": 5,
     "metadata": {},
     "output_type": "execute_result"
    }
   ],
   "source": [
    "#Your code for part B of Exercise 1 goes here\n",
    "arr.max()"
   ]
  },
  {
   "cell_type": "code",
   "execution_count": 11,
   "metadata": {},
   "outputs": [
    {
     "data": {
      "text/plain": [
       "array([3, 3, 4, 5, 4])"
      ]
     },
     "execution_count": 11,
     "metadata": {},
     "output_type": "execute_result"
    }
   ],
   "source": [
    "#Your code for part C of Exercise 1 goes here\n",
    "arr.min(axis = 1)"
   ]
  },
  {
   "cell_type": "code",
   "execution_count": 12,
   "metadata": {},
   "outputs": [
    {
     "data": {
      "text/plain": [
       "array([2, 2, 3, 3, 0], dtype=int64)"
      ]
     },
     "execution_count": 12,
     "metadata": {},
     "output_type": "execute_result"
    }
   ],
   "source": [
    "#Your code for part D of Exercise 1 goes here\n",
    "arr.argmin(axis = 1)"
   ]
  },
  {
   "cell_type": "markdown",
   "metadata": {},
   "source": [
    "<ol start='2'>\n",
    "   \n",
    "<li> <font size='3'>Enter the code below that generates the following numpy array: </font></li>\n",
    "\n",
    "```python\n",
    "#Result\n",
    "array([ 4,  9, 14, 19, 24, 29, 34, 39, 44, 49, 54, 59, 64, 69, 74, 79, 84,\n",
    "       89, 94, 99])\n",
    "```    \n",
    "</ol>"
   ]
  },
  {
   "cell_type": "code",
   "execution_count": 15,
   "metadata": {},
   "outputs": [
    {
     "data": {
      "text/plain": [
       "array([ 4,  9, 14, 19, 24, 29, 34, 39, 44, 49, 54, 59, 64, 69, 74, 79, 84,\n",
       "       89, 94, 99])"
      ]
     },
     "execution_count": 15,
     "metadata": {},
     "output_type": "execute_result"
    }
   ],
   "source": [
    "#Your code for Exercise 2 goes here\n",
    "arr2 = np.arange(4,100,5)\n",
    "arr2"
   ]
  },
  {
   "cell_type": "markdown",
   "metadata": {},
   "source": [
    "<ol start='3'>\n",
    "   \n",
    "<li> <font size='3'>Enter the code below that generates the following numpy array: </font></li>\n",
    "\n",
    "```python\n",
    "#Result\n",
    "array([[ 4,  9, 14, 19, 24],\n",
    "       [29, 34, 39, 44, 49],\n",
    "       [54, 59, 64, 69, 74],\n",
    "       [79, 84, 89, 94, 99]])\n",
    "```    \n",
    "</ol>"
   ]
  },
  {
   "cell_type": "code",
   "execution_count": 17,
   "metadata": {},
   "outputs": [
    {
     "data": {
      "text/plain": [
       "array([[ 4,  9, 14, 19, 24],\n",
       "       [29, 34, 39, 44, 49],\n",
       "       [54, 59, 64, 69, 74],\n",
       "       [79, 84, 89, 94, 99]])"
      ]
     },
     "execution_count": 17,
     "metadata": {},
     "output_type": "execute_result"
    }
   ],
   "source": [
    "#Your code for Exercise 3 goes here\n",
    "arr3 = arr2.reshape(4,5)\n",
    "arr3"
   ]
  },
  {
   "cell_type": "markdown",
   "metadata": {},
   "source": [
    "<ol start='4'>\n",
    "   \n",
    "<li> <font size='3'>Create a 4 by 2 by 3 array of normally distributed values</font></li>\n",
    "   \n",
    "</ol>"
   ]
  },
  {
   "cell_type": "code",
   "execution_count": 19,
   "metadata": {},
   "outputs": [
    {
     "data": {
      "text/plain": [
       "array([[[ 0.45790846,  1.2512242 ,  0.16029502],\n",
       "        [-0.11796284, -0.52798859, -0.61451474]],\n",
       "\n",
       "       [[-1.28470157,  0.12820363,  0.38348055],\n",
       "        [-0.06427985,  0.23159876, -1.37496694]],\n",
       "\n",
       "       [[-1.00029822,  0.24396938,  1.37327389],\n",
       "        [ 1.11362865, -0.25991776, -0.88077345]],\n",
       "\n",
       "       [[ 0.04339206,  0.21398316, -0.01797904],\n",
       "        [-0.3964454 , -0.29656388,  1.55222069]]])"
      ]
     },
     "execution_count": 19,
     "metadata": {},
     "output_type": "execute_result"
    }
   ],
   "source": [
    "#Your code for Exercise 4 goes here\n",
    "np.random.randn(4,2,3)"
   ]
  },
  {
   "cell_type": "markdown",
   "metadata": {},
   "source": [
    "<ol start='5'>\n",
    "   \n",
    "<li> <font size='3'>Enter the code below that generates the following numpy array(including the correct\n",
    "    data type): </font></li>\n",
    "\n",
    "```python\n",
    "#Result\n",
    "array([[0, 0, 0, 0, 0, 0],\n",
    "       [0, 0, 0, 0, 0, 0],\n",
    "       [1, 0, 0, 0, 0, 0],\n",
    "       [0, 1, 0, 0, 0, 0],\n",
    "       [0, 0, 1, 0, 0, 0],\n",
    "       [0, 0, 0, 1, 0, 0]]\n",
    "```    \n",
    "\n",
    "</ol>"
   ]
  },
  {
   "cell_type": "code",
   "execution_count": 23,
   "metadata": {},
   "outputs": [
    {
     "data": {
      "text/plain": [
       "array([[0, 0, 0, 0, 0, 0],\n",
       "       [0, 0, 0, 0, 0, 0],\n",
       "       [1, 0, 0, 0, 0, 0],\n",
       "       [0, 1, 0, 0, 0, 0],\n",
       "       [0, 0, 1, 0, 0, 0],\n",
       "       [0, 0, 0, 1, 0, 0]])"
      ]
     },
     "execution_count": 23,
     "metadata": {},
     "output_type": "execute_result"
    }
   ],
   "source": [
    "#Your code for Exercise 5 goes here\n",
    "np.eye(6,k = -2, dtype = int)"
   ]
  },
  {
   "cell_type": "markdown",
   "metadata": {},
   "source": [
    "<ol start='6'>\n",
    "   \n",
    "<li> <font size='3'>Given the numpy array below </font></li>\n",
    "\n",
    "```python\n",
    "array([ 3,  5,  7,  9, 11, 13, 15, 17, 19, 21, 23, 25, 27, 29, 31, 33])\n",
    "```    \n",
    "<ol>\n",
    "    <li>Enter the code below that selects only the last four elements:</li>\n",
    "\n",
    "```python\n",
    "#Result\n",
    "array([27, 29, 31, 33])\n",
    "```\n",
    "<li>Enter the code that selects the following subarray:\n",
    "\n",
    "```python\n",
    "#Result\n",
    "array([ 3,  9, 15, 21, 27, 33])\n",
    "```\n",
    "</ol>\n",
    "</ol>"
   ]
  },
  {
   "cell_type": "code",
   "execution_count": 26,
   "metadata": {},
   "outputs": [
    {
     "data": {
      "text/plain": [
       "array([27, 29, 31, 33])"
      ]
     },
     "execution_count": 26,
     "metadata": {},
     "output_type": "execute_result"
    }
   ],
   "source": [
    "#Your code for part A of Exercise 6 goes here\n",
    "arr6 = np.arange(3,34,2)\n",
    "arr6[-4:]"
   ]
  },
  {
   "cell_type": "code",
   "execution_count": 29,
   "metadata": {},
   "outputs": [
    {
     "data": {
      "text/plain": [
       "array([ 3,  9, 15, 21, 27, 33])"
      ]
     },
     "execution_count": 29,
     "metadata": {},
     "output_type": "execute_result"
    }
   ],
   "source": [
    "#Your code for part B of Exercise 6 goes here\n",
    "arr6[arr6%3==0]"
   ]
  },
  {
   "cell_type": "markdown",
   "metadata": {},
   "source": [
    "<ol start='7'>\n",
    "   \n",
    "<li> <font size='3'>Given the 2D numpy array below </font></li>\n",
    "\n",
    "```python\n",
    "arr_2d=np.array([[69, 75, 52, 33,  7, 62, 22],\n",
    "               [87, 51, 13, 75, 78, 46, 53],\n",
    "               [43, 24, 58, 76,  3,  3, 57],\n",
    "               [84, 86, 75, 26, 71, 77,  7],\n",
    "               [75, 17, 17, 38, 54, 72, 78]])\n",
    "```    \n",
    "<ol>\n",
    "    <li> Enter the code below that selects the element 72 on the last row</li>\n",
    "    <br>\n",
    "   <li>Enter the code below that selects the following subarray:</li>\n",
    "\n",
    "```python\n",
    "#Result\n",
    "array([[76,  3],\n",
    "       [26, 71],\n",
    "       [38, 54]])\n",
    "```\n",
    "<li>Enter the code that selects the following subarray:\n",
    "\n",
    "```python\n",
    "#Result\n",
    "array([[87, 51, 13, 75, 78, 46, 53],\n",
    "       [43, 24, 58, 76,  3,  3, 57],\n",
    "       [84, 86, 75, 26, 71, 77,  7]])\n",
    "```\n",
    "</ol>\n",
    "</ol>"
   ]
  },
  {
   "cell_type": "code",
   "execution_count": 32,
   "metadata": {},
   "outputs": [
    {
     "data": {
      "text/plain": [
       "72"
      ]
     },
     "execution_count": 32,
     "metadata": {},
     "output_type": "execute_result"
    }
   ],
   "source": [
    "#Your code for part A of Exercise 7 goes here\n",
    "arr_2d=np.array([[69, 75, 52, 33,  7, 62, 22],\n",
    "               [87, 51, 13, 75, 78, 46, 53],\n",
    "               [43, 24, 58, 76,  3,  3, 57],\n",
    "               [84, 86, 75, 26, 71, 77,  7],\n",
    "               [75, 17, 17, 38, 54, 72, 78]])\n",
    "arr_2d[4][5]"
   ]
  },
  {
   "cell_type": "code",
   "execution_count": 34,
   "metadata": {},
   "outputs": [
    {
     "data": {
      "text/plain": [
       "array([[87, 51, 13, 75, 78, 46, 53],\n",
       "       [43, 24, 58, 76,  3,  3, 57],\n",
       "       [84, 86, 75, 26, 71, 77,  7]])"
      ]
     },
     "execution_count": 34,
     "metadata": {},
     "output_type": "execute_result"
    }
   ],
   "source": [
    "#Your code for part B of Exercise 7 goes here\n",
    "arr_2d[1:-1,:]"
   ]
  },
  {
   "cell_type": "markdown",
   "metadata": {},
   "source": [
    "<ol start='8'>\n",
    "   \n",
    "<li> <font size='3'>Given the numpy array below </font></li>\n",
    "\n",
    "```python\n",
    "arr=np.arange(1,50,3)\n",
    "array([ 1,  4,  7, 10, 13, 16, 19, 22, 25, 28, 31, 34, 37, 40, 43, 46, 49])\n",
    "```    \n",
    "<ol>\n",
    "    <li>Enter the code that selects all elements larger than 7 and smaller than 43:\n",
    "\n",
    "```python\n",
    "#Result\n",
    "array([10, 13, 16, 19, 22, 25, 28, 31, 34, 37, 40])\n",
    "\n",
    "```\n",
    "   <li>Enter the code below that selects all even integers larger than 11 and smaller than 45:</li>\n",
    "\n",
    "```python\n",
    "#Result\n",
    "array([16, 22, 28, 34, 40])\n",
    "```\n",
    "</ol>\n",
    "</ol>"
   ]
  },
  {
   "cell_type": "code",
   "execution_count": 36,
   "metadata": {},
   "outputs": [
    {
     "data": {
      "text/plain": [
       "array([10, 13, 16, 19, 22, 25, 28, 31, 34, 37, 40])"
      ]
     },
     "execution_count": 36,
     "metadata": {},
     "output_type": "execute_result"
    }
   ],
   "source": [
    "#Your code for part A of Exercise 8 goes here\n",
    "arr8 = np.arange(1,50,3)\n",
    "arr8[(arr8 > 7) & (arr8 < 43)]"
   ]
  },
  {
   "cell_type": "code",
   "execution_count": 37,
   "metadata": {},
   "outputs": [
    {
     "data": {
      "text/plain": [
       "array([16, 22, 28, 34, 40])"
      ]
     },
     "execution_count": 37,
     "metadata": {},
     "output_type": "execute_result"
    }
   ],
   "source": [
    "#Your code for part B of Exercise 8 goes here\n",
    "arr8[(arr8 > 11) & (arr8 < 45) & (arr8%2==0)]"
   ]
  },
  {
   "cell_type": "markdown",
   "metadata": {},
   "source": [
    "<ol start='9'>\n",
    "   \n",
    "<li> <font size='3'>Create a 1D uniformly distributed array with 20 elements and compute: </font></li>\n",
    "\n",
    "\n",
    "<ol>\n",
    "    <li> Mean</li>\n",
    "\n",
    "   <li>Standard Deviation</li>\n",
    "   \n",
    "   <li>Median</li>\n",
    "   \n",
    "   <li>Mean of its log values</li>\n",
    "</ol>\n",
    "</ol>"
   ]
  },
  {
   "cell_type": "code",
   "execution_count": 98,
   "metadata": {},
   "outputs": [
    {
     "data": {
      "text/plain": [
       "0.5278077160849707"
      ]
     },
     "execution_count": 98,
     "metadata": {},
     "output_type": "execute_result"
    }
   ],
   "source": [
    "#Your code for part A of Exercise 9 goes here\n",
    "arr9 = np.random.rand(20)\n",
    "arr9.mean()"
   ]
  },
  {
   "cell_type": "code",
   "execution_count": 47,
   "metadata": {},
   "outputs": [
    {
     "data": {
      "text/plain": [
       "0.22755929500444896"
      ]
     },
     "execution_count": 47,
     "metadata": {},
     "output_type": "execute_result"
    }
   ],
   "source": [
    "#Your code for part B of Exercise 9 goes here\n",
    "arr9.std()"
   ]
  },
  {
   "cell_type": "code",
   "execution_count": 99,
   "metadata": {},
   "outputs": [
    {
     "ename": "AttributeError",
     "evalue": "'numpy.ndarray' object has no attribute 'median'",
     "output_type": "error",
     "traceback": [
      "\u001b[1;31m---------------------------------------------------------------------------\u001b[0m",
      "\u001b[1;31mAttributeError\u001b[0m                            Traceback (most recent call last)",
      "\u001b[1;32m<ipython-input-99-05ce1326ba9e>\u001b[0m in \u001b[0;36m<module>\u001b[1;34m\u001b[0m\n\u001b[0;32m      1\u001b[0m \u001b[1;31m#Your code for part C of Exercise 9 goes here\u001b[0m\u001b[1;33m\u001b[0m\u001b[1;33m\u001b[0m\u001b[1;33m\u001b[0m\u001b[0m\n\u001b[1;32m----> 2\u001b[1;33m \u001b[0marr9\u001b[0m\u001b[1;33m.\u001b[0m\u001b[0mmedian\u001b[0m\u001b[1;33m(\u001b[0m\u001b[1;33m)\u001b[0m\u001b[1;33m\u001b[0m\u001b[1;33m\u001b[0m\u001b[0m\n\u001b[0m",
      "\u001b[1;31mAttributeError\u001b[0m: 'numpy.ndarray' object has no attribute 'median'"
     ]
    }
   ],
   "source": [
    "#Your code for part C of Exercise 9 goes here\n",
    "arr9.median()"
   ]
  },
  {
   "cell_type": "code",
   "execution_count": 50,
   "metadata": {},
   "outputs": [
    {
     "data": {
      "text/plain": [
       "-0.4530670412299608"
      ]
     },
     "execution_count": 50,
     "metadata": {},
     "output_type": "execute_result"
    }
   ],
   "source": [
    "#Your code for part D of Exercise 9 goes here\n",
    "np.log10(arr9).mean()"
   ]
  },
  {
   "cell_type": "markdown",
   "metadata": {},
   "source": [
    "<ol start='10'>\n",
    "   \n",
    "<li> <font size='3'>Write a function that:</font></li>\n",
    "    <ol>\n",
    "    <br>\n",
    "   <li> takes a 1D Numpy array as input and prints out the <b>reversed</b> array with element type float</li>\n",
    "\n",
    "For example, if you input the following array into your function\n",
    "```python\n",
    "array([ 1,  3,  5,  7,  9, 11, 13, 15, 17, 19, 21, 23])\n",
    "```\n",
    "your function should print out\n",
    "\n",
    "```python\n",
    "array([23., 21., 19., 17., 15., 13., 11.,  9.,  7.,  5.,  3.,  1.])\n",
    "```\n",
    "\n",
    "<li> takes a 2D Numpy array as input and prints out a copy of the input array <b> flattened</b> to one dimension</li>\n",
    "\n",
    "For example if the input array is:\n",
    "```python\n",
    "array([[7, 4, 8, 3],\n",
    "       [6, 3, 4, 3],\n",
    "       [4, 7, 5, 4]])\n",
    "```\n",
    "the output of your function should be\n",
    "```python\n",
    "array([7, 4, 8, 3, 6, 3, 4, 3, 4, 7, 5, 4])\n",
    "```\n",
    "</ol>\n",
    "</ol>"
   ]
  },
  {
   "cell_type": "code",
   "execution_count": 71,
   "metadata": {},
   "outputs": [],
   "source": [
    "#Your code for part A of Exercise 10 goes here\n",
    "def reverse(arr):\n",
    "    new_arr = np.arange(0)\n",
    "    for n in arr:\n",
    "        new_arr = np.insert(new_arr, 0, n)\n",
    "    new_arr = new_arr.astype('float64')\n",
    "    return(new_arr)"
   ]
  },
  {
   "cell_type": "code",
   "execution_count": 95,
   "metadata": {},
   "outputs": [],
   "source": [
    "#Your code for part A of Exercise 10 goes here\n",
    "def flatten(arr):\n",
    "    x = 0\n",
    "    y = 0\n",
    "    for n in arr:\n",
    "        x += 1\n",
    "    for n in arr[0]:\n",
    "        y += 1\n",
    "    z = x * y\n",
    "    new_arr = arr.reshape(1,z)\n",
    "    return(new_arr[0])"
   ]
  },
  {
   "cell_type": "code",
   "execution_count": 77,
   "metadata": {},
   "outputs": [],
   "source": []
  },
  {
   "cell_type": "code",
   "execution_count": null,
   "metadata": {},
   "outputs": [],
   "source": []
  },
  {
   "cell_type": "code",
   "execution_count": null,
   "metadata": {},
   "outputs": [],
   "source": []
  },
  {
   "cell_type": "code",
   "execution_count": null,
   "metadata": {},
   "outputs": [],
   "source": []
  }
 ],
 "metadata": {
  "kernelspec": {
   "display_name": "Python 3",
   "language": "python",
   "name": "python3"
  },
  "language_info": {
   "codemirror_mode": {
    "name": "ipython",
    "version": 3
   },
   "file_extension": ".py",
   "mimetype": "text/x-python",
   "name": "python",
   "nbconvert_exporter": "python",
   "pygments_lexer": "ipython3",
   "version": "3.7.4"
  }
 },
 "nbformat": 4,
 "nbformat_minor": 4
}
